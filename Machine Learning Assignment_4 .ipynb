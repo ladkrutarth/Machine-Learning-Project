{
 "cells": [
  {
   "cell_type": "markdown",
   "id": "30873926-025d-4f47-86ec-2e2fb821093d",
   "metadata": {},
   "source": [
    "<b> Student Name: Krutarth Lad </b><br>\n"
   ]
  },
  {
   "cell_type": "markdown",
   "id": "1a345cb6-6cc5-4334-833e-191b99dffb41",
   "metadata": {},
   "source": [
    "<b>The Validation Set Approach </b>"
   ]
  },
  {
   "cell_type": "markdown",
   "id": "57a054ce-bd1d-47a3-b5ec-bcd0410997e0",
   "metadata": {},
   "source": [
    "<b> Task 1 : </b>\n",
    "Change the value of the seed for (Validation Set Approach) part 1 to the last 4 numbers of your student ID . Report the test rates for a Poly fit quadratic and cubic using the seed. -- IMPORTANT: your assignment will only be graded if you use the last 4 numbers of your student ID as the seed.  "
   ]
  },
  {
   "cell_type": "markdown",
   "id": "e094fb10-f23c-40d6-bcdc-f4cb4af97614",
   "metadata": {},
   "source": []
  },
  {
   "cell_type": "code",
   "execution_count": 12,
   "id": "d714210a-4e06-40a3-b8a6-864b3e33ecfc",
   "metadata": {},
   "outputs": [],
   "source": [
    "library(ISLR2)\n",
    "library(boot)\n",
    "\n",
    "# Import data set\n",
    "data(Auto)\n"
   ]
  },
  {
   "cell_type": "code",
   "execution_count": null,
   "id": "c0132d77-24ac-482f-a3aa-3b3116d60163",
   "metadata": {},
   "outputs": [],
   "source": []
  },
  {
   "cell_type": "code",
   "execution_count": 64,
   "id": "d2892b02-4ef0-4613-ba19-72014331e7df",
   "metadata": {},
   "outputs": [
    {
     "data": {
      "text/html": [
       "<style>\n",
       ".list-inline {list-style: none; margin:0; padding: 0}\n",
       ".list-inline>li {display: inline-block}\n",
       ".list-inline>li:not(:last-child)::after {content: \"\\00b7\"; padding: 0 .5ex}\n",
       "</style>\n",
       "<ol class=list-inline><li>'mpg'</li><li>'cylinders'</li><li>'displacement'</li><li>'horsepower'</li><li>'weight'</li><li>'acceleration'</li><li>'year'</li><li>'origin'</li><li>'name'</li></ol>\n"
      ],
      "text/latex": [
       "\\begin{enumerate*}\n",
       "\\item 'mpg'\n",
       "\\item 'cylinders'\n",
       "\\item 'displacement'\n",
       "\\item 'horsepower'\n",
       "\\item 'weight'\n",
       "\\item 'acceleration'\n",
       "\\item 'year'\n",
       "\\item 'origin'\n",
       "\\item 'name'\n",
       "\\end{enumerate*}\n"
      ],
      "text/markdown": [
       "1. 'mpg'\n",
       "2. 'cylinders'\n",
       "3. 'displacement'\n",
       "4. 'horsepower'\n",
       "5. 'weight'\n",
       "6. 'acceleration'\n",
       "7. 'year'\n",
       "8. 'origin'\n",
       "9. 'name'\n",
       "\n",
       "\n"
      ],
      "text/plain": [
       "[1] \"mpg\"          \"cylinders\"    \"displacement\" \"horsepower\"   \"weight\"      \n",
       "[6] \"acceleration\" \"year\"         \"origin\"       \"name\"        "
      ]
     },
     "metadata": {},
     "output_type": "display_data"
    }
   ],
   "source": [
    "names(Auto)"
   ]
  },
  {
   "cell_type": "code",
   "execution_count": 13,
   "id": "1d57cef0-9176-4792-ac7a-9246b85f155c",
   "metadata": {},
   "outputs": [
    {
     "data": {
      "text/html": [
       "19.6197659076896"
      ],
      "text/latex": [
       "19.6197659076896"
      ],
      "text/markdown": [
       "19.6197659076896"
      ],
      "text/plain": [
       "[1] 19.61977"
      ]
     },
     "metadata": {},
     "output_type": "display_data"
    },
    {
     "data": {
      "text/html": [
       "19.5905562055987"
      ],
      "text/latex": [
       "19.5905562055987"
      ],
      "text/markdown": [
       "19.5905562055987"
      ],
      "text/plain": [
       "[1] 19.59056"
      ]
     },
     "metadata": {},
     "output_type": "display_data"
    }
   ],
   "source": [
    "\n",
    "\n",
    "# set seed last four digit student id number \n",
    "set.seed(8098)\n",
    "\n",
    "# train data and test data split in 50/50 ratio\n",
    "train_data <- sample(seq_len(nrow(Auto)), size = nrow(Auto)/2)\n",
    "train_set <- Auto[train_data, ]\n",
    "test_set <- Auto[-train_data, ]\n",
    "\n",
    "# Fit quadratic model (Poly degree = 2)\n",
    "quad_fit <- lm(mpg ~ poly(horsepower,2),  data = train_set)\n",
    "\n",
    "#Fit Cubic model (Poly degree = 3)\n",
    "cubic_fit <- lm(mpg ~ poly(horsepower, 3), data = train_set)\n",
    "\n",
    "\n",
    "# predict test set \n",
    "quad_pred <- predict(quad_fit, newdata = test_set)\n",
    "cubic_Pred <- predict(cubic_fit , newdata = test_set)\n",
    "\n",
    "\n",
    "# calcuate mean square error cubic & quadratic model\n",
    "quad_mse <- mean((test_set$mpg - quad_pred)^2)\n",
    "cubic_mse <- mean((test_set$mpg - cubic_Pred)^2)\n",
    "\n",
    "quad_mse\n",
    "cubic_mse"
   ]
  },
  {
   "cell_type": "code",
   "execution_count": null,
   "id": "7bfcb422-5d10-4c32-8f59-66e26391776a",
   "metadata": {},
   "outputs": [],
   "source": []
  },
  {
   "cell_type": "code",
   "execution_count": null,
   "id": "e8a1fa32-a580-431f-ba6d-dce20413dc6c",
   "metadata": {},
   "outputs": [],
   "source": []
  },
  {
   "cell_type": "markdown",
   "id": "28645b9c-0e7e-4ffd-a4b3-9280676cfc07",
   "metadata": {},
   "source": [
    "<b> Task 2 </b>"
   ]
  },
  {
   "cell_type": "markdown",
   "id": "900a05dd-c7b3-4a28-a398-6cf8ea8c0215",
   "metadata": {},
   "source": [
    "Change the ratio of train/test to a new percentage. (original was 50/50) Select 3 new ratios and compute and report the test performance for each using the best performing of the two Poly fit values from task 1. Keep your student ID as the seed. "
   ]
  },
  {
   "cell_type": "code",
   "execution_count": null,
   "id": "786ec16b-aad1-468c-b555-00a73fca9c2c",
   "metadata": {},
   "outputs": [],
   "source": []
  },
  {
   "cell_type": "code",
   "execution_count": 14,
   "id": "357f5d6e-4492-46d8-aed2-9ff1796fcfe6",
   "metadata": {},
   "outputs": [
    {
     "data": {
      "text/html": [
       "20.6638580978825"
      ],
      "text/latex": [
       "20.6638580978825"
      ],
      "text/markdown": [
       "20.6638580978825"
      ],
      "text/plain": [
       "[1] 20.66386"
      ]
     },
     "metadata": {},
     "output_type": "display_data"
    },
    {
     "data": {
      "text/html": [
       "23.5706005699175"
      ],
      "text/latex": [
       "23.5706005699175"
      ],
      "text/markdown": [
       "23.5706005699175"
      ],
      "text/plain": [
       "[1] 23.5706"
      ]
     },
     "metadata": {},
     "output_type": "display_data"
    },
    {
     "data": {
      "text/html": [
       "23.902336178127"
      ],
      "text/latex": [
       "23.902336178127"
      ],
      "text/markdown": [
       "23.902336178127"
      ],
      "text/plain": [
       "[1] 23.90234"
      ]
     },
     "metadata": {},
     "output_type": "display_data"
    }
   ],
   "source": [
    "# write funcation for ploy fit values train/test new percentage\n",
    "\n",
    "calcuate_error <- function( train_ratio, poly_degree) {\n",
    "\n",
    "    # train data and test data split in 50/50 ratio\n",
    "    # train data and test data split in 50/50 ratio\n",
    "    train_data <- sample(seq_len(nrow(Auto)), size = train_ratio * nrow(Auto))\n",
    "    train_set <- Auto[train_data, ]\n",
    "    test_set <- Auto[-train_data, ]\n",
    "\n",
    "    # polynomial model \n",
    "    poly_fit <- lm(mpg ~ poly(horsepower, poly_degree), data = train_set)\n",
    "\n",
    "\n",
    "    \n",
    "    # predict and calcuate mean sqaure error on test set\n",
    "\n",
    "        test_pred <- predict(poly_fit, newdata = test_set)\n",
    "        test_mse <- mean((test_set$mpg - test_pred)^2)\n",
    "\n",
    "    return(test_mse)\n",
    "}\n",
    "\n",
    "poly_degree <- 2\n",
    "\n",
    "# test set 70/30\n",
    "mse_1 <- calcuate_error(0.7,poly_degree) \n",
    "# test set 80/20\n",
    "mse_2 <- calcuate_error(0.8,poly_degree)\n",
    "#test set 90/10\n",
    "mse_3 <- calcuate_error(0.9,poly_degree)\n",
    "\n",
    "\n",
    "mse_1\n",
    "mse_2\n",
    "mse_3"
   ]
  },
  {
   "cell_type": "code",
   "execution_count": null,
   "id": "f061b19d-2c34-4d69-b452-82048fd77ab3",
   "metadata": {},
   "outputs": [],
   "source": []
  },
  {
   "cell_type": "code",
   "execution_count": null,
   "id": "0f7f377b-8f39-4daa-90ff-b6d225625fa3",
   "metadata": {},
   "outputs": [],
   "source": []
  },
  {
   "cell_type": "markdown",
   "id": "4d15112b-9ae3-4eab-b59f-53389f27c8a2",
   "metadata": {},
   "source": [
    "<b> Task 3 : </b>\n",
    "The LOOCV used in the lab compares poly order using horsepower for mpg prediction. Compute and report the overall performance of Poly for orders 1:8 for any one of the other features in the Auto dataset (acceleration, cylinders, displacement, weight) to mpg. "
   ]
  },
  {
   "cell_type": "markdown",
   "id": "e8e40873-bb46-4d9a-a3ec-e890f474b8bf",
   "metadata": {},
   "source": []
  },
  {
   "cell_type": "code",
   "execution_count": 15,
   "id": "32a0e2f7-74e5-4619-8142-e8a6afe18266",
   "metadata": {},
   "outputs": [
    {
     "data": {
      "text/html": [
       "<style>\n",
       ".list-inline {list-style: none; margin:0; padding: 0}\n",
       ".list-inline>li {display: inline-block}\n",
       ".list-inline>li:not(:last-child)::after {content: \"\\00b7\"; padding: 0 .5ex}\n",
       "</style>\n",
       "<ol class=list-inline><li>21.5924627802518</li><li>19.1535569778615</li><li>19.1929853823545</li><li>19.2988511031737</li><li>19.361179342957</li><li>19.1703924420092</li><li>18.7346179985269</li><li>18.3526602456281</li></ol>\n"
      ],
      "text/latex": [
       "\\begin{enumerate*}\n",
       "\\item 21.5924627802518\n",
       "\\item 19.1535569778615\n",
       "\\item 19.1929853823545\n",
       "\\item 19.2988511031737\n",
       "\\item 19.361179342957\n",
       "\\item 19.1703924420092\n",
       "\\item 18.7346179985269\n",
       "\\item 18.3526602456281\n",
       "\\end{enumerate*}\n"
      ],
      "text/markdown": [
       "1. 21.5924627802518\n",
       "2. 19.1535569778615\n",
       "3. 19.1929853823545\n",
       "4. 19.2988511031737\n",
       "5. 19.361179342957\n",
       "6. 19.1703924420092\n",
       "7. 18.7346179985269\n",
       "8. 18.3526602456281\n",
       "\n",
       "\n"
      ],
      "text/plain": [
       "[1] 21.59246 19.15356 19.19299 19.29885 19.36118 19.17039 18.73462 18.35266"
      ]
     },
     "metadata": {},
     "output_type": "display_data"
    }
   ],
   "source": [
    "# Define a function to compute LOOCV for a given polynomial degree and feature\n",
    "calculate_loocv <- function(poly_degree, feature) {\n",
    "  formula <- as.formula(paste(\"mpg ~ poly(\", feature, \",\", poly_degree, \")\"))\n",
    "  model <- glm(formula, data = Auto)\n",
    "  cv_result <- cv.glm(Auto, model, K = nrow(Auto))\n",
    "  return(cv_result$delta[1])  # LOOCV error\n",
    "}\n",
    "\n",
    "# Test for polynomial degrees 1 to 8 using displacement\n",
    "loocv_errors <- sapply(1:8, calculate_loocv, feature = \"displacement\")\n",
    "\n",
    "# LOOCV errors\n",
    "loocv_errors\n"
   ]
  },
  {
   "cell_type": "code",
   "execution_count": null,
   "id": "f499c7e3-7759-4174-9bf1-7d6e6867d76b",
   "metadata": {},
   "outputs": [],
   "source": []
  },
  {
   "cell_type": "code",
   "execution_count": null,
   "id": "83f3c5b5-9aa3-473b-91cb-4f91d30a26c8",
   "metadata": {},
   "outputs": [],
   "source": []
  },
  {
   "cell_type": "markdown",
   "id": "95cd2ce9-9d29-454d-bd9d-178f099bed4c",
   "metadata": {},
   "source": [
    "<b> Task 4 : </b>\n",
    "Select a different feature form Auto than you did in task 3 and perform a 5 fold and 10 fold k-fold cross validation. Again be sure to use your ID as a seed. "
   ]
  },
  {
   "cell_type": "code",
   "execution_count": 16,
   "id": "e05c7dbd-f35a-4967-99ae-73f305dabf51",
   "metadata": {},
   "outputs": [
    {
     "data": {
      "text/html": [
       "17.5717433332762"
      ],
      "text/latex": [
       "17.5717433332762"
      ],
      "text/markdown": [
       "17.5717433332762"
      ],
      "text/plain": [
       "[1] 17.57174"
      ]
     },
     "metadata": {},
     "output_type": "display_data"
    },
    {
     "data": {
      "text/html": [
       "17.5728613170031"
      ],
      "text/latex": [
       "17.5728613170031"
      ],
      "text/markdown": [
       "17.5728613170031"
      ],
      "text/plain": [
       "[1] 17.57286"
      ]
     },
     "metadata": {},
     "output_type": "display_data"
    }
   ],
   "source": [
    "library(boot)\n",
    "set.seed(8098)\n",
    "# write function for K fold \n",
    "kfold_cv  <- function(k, poly_degree, feature){\n",
    "    formula <- as.formula(paste(\"mpg ~ poly(\", feature, \",\" , poly_degree, \")\"))\n",
    "    model <- glm(formula, data = Auto)\n",
    "    cv_result <- cv.glm(Auto, model, K=k)\n",
    "    return (cv_result$delta[1]) \n",
    "    }\n",
    "feature <- \"weight\"\n",
    "\n",
    "# 5 k-fold vaildation \n",
    "mse_5_fold <- kfold_cv(5,2,feature)\n",
    "\n",
    "# 10 K-fold vaildation \n",
    "mse_10_fold <- kfold_cv(10,2,feature)\n",
    "\n",
    "\n",
    "mse_5_fold\n",
    "mse_10_fold"
   ]
  },
  {
   "cell_type": "code",
   "execution_count": null,
   "id": "faa95211-cc00-4c8a-9e46-33f1566d20c8",
   "metadata": {},
   "outputs": [],
   "source": []
  },
  {
   "cell_type": "code",
   "execution_count": null,
   "id": "fa5c00a0-34d7-440b-961b-0c99a15a6420",
   "metadata": {},
   "outputs": [],
   "source": []
  },
  {
   "cell_type": "markdown",
   "id": "38ce7d60-4288-48a5-924d-c699b69e28d9",
   "metadata": {},
   "source": [
    "<b> Task 5: </b>\n",
    "Compute the last bootstrap exercise (the quadratic fit for horsepower) from the lab 3 more times, using a new number of samples {250, 500, 2500}. The goal of this task will be to compare the error estimates of the increasing number of samples. Report your observations about the error as the number of bootstrap sets increases.  Again be sure to use your ID as a seed. "
   ]
  },
  {
   "cell_type": "code",
   "execution_count": 17,
   "id": "5fcc7449-f11e-497b-a273-a3aeb5f735a1",
   "metadata": {},
   "outputs": [
    {
     "data": {
      "text/html": [
       "<style>\n",
       ".dl-inline {width: auto; margin:0; padding: 0}\n",
       ".dl-inline>dt, .dl-inline>dd {float: none; width: auto; display: inline-block}\n",
       ".dl-inline>dt::after {content: \":\\0020\"; padding-right: .5ex}\n",
       ".dl-inline>dt:not(:first-of-type) {padding-left: .5ex}\n",
       "</style><dl class=dl-inline><dt>(Intercept)</dt><dd>23.4459183673469</dd><dt>poly(horsepower, 2)1</dt><dd>-120.137744266552</dd><dt>poly(horsepower, 2)2</dt><dd>44.0895277832102</dd></dl>\n"
      ],
      "text/latex": [
       "\\begin{description*}\n",
       "\\item[(Intercept)] 23.4459183673469\n",
       "\\item[poly(horsepower, 2)1] -120.137744266552\n",
       "\\item[poly(horsepower, 2)2] 44.0895277832102\n",
       "\\end{description*}\n"
      ],
      "text/markdown": [
       "(Intercept)\n",
       ":   23.4459183673469poly(horsepower, 2)1\n",
       ":   -120.137744266552poly(horsepower, 2)2\n",
       ":   44.0895277832102\n",
       "\n"
      ],
      "text/plain": [
       "         (Intercept) poly(horsepower, 2)1 poly(horsepower, 2)2 \n",
       "            23.44592           -120.13774             44.08953 "
      ]
     },
     "metadata": {},
     "output_type": "display_data"
    },
    {
     "data": {
      "text/html": [
       "<style>\n",
       ".dl-inline {width: auto; margin:0; padding: 0}\n",
       ".dl-inline>dt, .dl-inline>dd {float: none; width: auto; display: inline-block}\n",
       ".dl-inline>dt::after {content: \":\\0020\"; padding-right: .5ex}\n",
       ".dl-inline>dt:not(:first-of-type) {padding-left: .5ex}\n",
       "</style><dl class=dl-inline><dt>(Intercept)</dt><dd>23.4459183673469</dd><dt>poly(horsepower, 2)1</dt><dd>-120.137744266552</dd><dt>poly(horsepower, 2)2</dt><dd>44.0895277832102</dd></dl>\n"
      ],
      "text/latex": [
       "\\begin{description*}\n",
       "\\item[(Intercept)] 23.4459183673469\n",
       "\\item[poly(horsepower, 2)1] -120.137744266552\n",
       "\\item[poly(horsepower, 2)2] 44.0895277832102\n",
       "\\end{description*}\n"
      ],
      "text/markdown": [
       "(Intercept)\n",
       ":   23.4459183673469poly(horsepower, 2)1\n",
       ":   -120.137744266552poly(horsepower, 2)2\n",
       ":   44.0895277832102\n",
       "\n"
      ],
      "text/plain": [
       "         (Intercept) poly(horsepower, 2)1 poly(horsepower, 2)2 \n",
       "            23.44592           -120.13774             44.08953 "
      ]
     },
     "metadata": {},
     "output_type": "display_data"
    },
    {
     "data": {
      "text/html": [
       "<style>\n",
       ".dl-inline {width: auto; margin:0; padding: 0}\n",
       ".dl-inline>dt, .dl-inline>dd {float: none; width: auto; display: inline-block}\n",
       ".dl-inline>dt::after {content: \":\\0020\"; padding-right: .5ex}\n",
       ".dl-inline>dt:not(:first-of-type) {padding-left: .5ex}\n",
       "</style><dl class=dl-inline><dt>(Intercept)</dt><dd>23.4459183673469</dd><dt>poly(horsepower, 2)1</dt><dd>-120.137744266552</dd><dt>poly(horsepower, 2)2</dt><dd>44.0895277832102</dd></dl>\n"
      ],
      "text/latex": [
       "\\begin{description*}\n",
       "\\item[(Intercept)] 23.4459183673469\n",
       "\\item[poly(horsepower, 2)1] -120.137744266552\n",
       "\\item[poly(horsepower, 2)2] 44.0895277832102\n",
       "\\end{description*}\n"
      ],
      "text/markdown": [
       "(Intercept)\n",
       ":   23.4459183673469poly(horsepower, 2)1\n",
       ":   -120.137744266552poly(horsepower, 2)2\n",
       ":   44.0895277832102\n",
       "\n"
      ],
      "text/plain": [
       "         (Intercept) poly(horsepower, 2)1 poly(horsepower, 2)2 \n",
       "            23.44592           -120.13774             44.08953 "
      ]
     },
     "metadata": {},
     "output_type": "display_data"
    }
   ],
   "source": [
    "\n",
    "# set seed \n",
    "set.seed(8098)\n",
    "\n",
    "bootstrap <- function(samples){\n",
    "    fn <- function(data, index){\n",
    "\n",
    "        fit <- lm(mpg ~ poly(horsepower, 2), data = data, subset = index)\n",
    "        return (coef(fit))\n",
    "     }\n",
    "\n",
    "        result <- boot(Auto, fn, R = samples)\n",
    "\n",
    "        return (result$t0)\n",
    "    }\n",
    "\n",
    "    result_250 <- bootstrap(250)\n",
    "    result_500 <- bootstrap(500)\n",
    "    result_2500 <- bootstrap(2500)\n",
    "\n",
    "result_250          \n",
    "result_500\n",
    "result_2500"
   ]
  },
  {
   "cell_type": "code",
   "execution_count": null,
   "id": "0f40066a-242c-4d95-94e8-ac62502481fc",
   "metadata": {},
   "outputs": [],
   "source": []
  },
  {
   "cell_type": "markdown",
   "id": "8b608aca-195f-47c4-ba32-e444c4ebeaa5",
   "metadata": {},
   "source": [
    "<b>  2)  Feature and Mode Selection </b>"
   ]
  },
  {
   "cell_type": "code",
   "execution_count": null,
   "id": "e07a44f0-331d-4d23-907f-a146add08834",
   "metadata": {},
   "outputs": [],
   "source": []
  },
  {
   "cell_type": "code",
   "execution_count": 25,
   "id": "38dba64f-11d7-459e-89ca-1fc108367e8c",
   "metadata": {},
   "outputs": [],
   "source": [
    "# Load libraries\n",
    "library(leaps)\n",
    "library(ISLR2)\n"
   ]
  },
  {
   "cell_type": "code",
   "execution_count": 26,
   "id": "70fe592c-ab89-43ec-bd3d-dcc20f71562b",
   "metadata": {},
   "outputs": [
    {
     "data": {
      "text/html": [
       "<style>\n",
       ".list-inline {list-style: none; margin:0; padding: 0}\n",
       ".list-inline>li {display: inline-block}\n",
       ".list-inline>li:not(:last-child)::after {content: \"\\00b7\"; padding: 0 .5ex}\n",
       "</style>\n",
       "<ol class=list-inline><li>'AtBat'</li><li>'Hits'</li><li>'HmRun'</li><li>'Runs'</li><li>'RBI'</li><li>'Walks'</li><li>'Years'</li><li>'CAtBat'</li><li>'CHits'</li><li>'CHmRun'</li><li>'CRuns'</li><li>'CRBI'</li><li>'CWalks'</li><li>'League'</li><li>'Division'</li><li>'PutOuts'</li><li>'Assists'</li><li>'Errors'</li><li>'Salary'</li><li>'NewLeague'</li></ol>\n"
      ],
      "text/latex": [
       "\\begin{enumerate*}\n",
       "\\item 'AtBat'\n",
       "\\item 'Hits'\n",
       "\\item 'HmRun'\n",
       "\\item 'Runs'\n",
       "\\item 'RBI'\n",
       "\\item 'Walks'\n",
       "\\item 'Years'\n",
       "\\item 'CAtBat'\n",
       "\\item 'CHits'\n",
       "\\item 'CHmRun'\n",
       "\\item 'CRuns'\n",
       "\\item 'CRBI'\n",
       "\\item 'CWalks'\n",
       "\\item 'League'\n",
       "\\item 'Division'\n",
       "\\item 'PutOuts'\n",
       "\\item 'Assists'\n",
       "\\item 'Errors'\n",
       "\\item 'Salary'\n",
       "\\item 'NewLeague'\n",
       "\\end{enumerate*}\n"
      ],
      "text/markdown": [
       "1. 'AtBat'\n",
       "2. 'Hits'\n",
       "3. 'HmRun'\n",
       "4. 'Runs'\n",
       "5. 'RBI'\n",
       "6. 'Walks'\n",
       "7. 'Years'\n",
       "8. 'CAtBat'\n",
       "9. 'CHits'\n",
       "10. 'CHmRun'\n",
       "11. 'CRuns'\n",
       "12. 'CRBI'\n",
       "13. 'CWalks'\n",
       "14. 'League'\n",
       "15. 'Division'\n",
       "16. 'PutOuts'\n",
       "17. 'Assists'\n",
       "18. 'Errors'\n",
       "19. 'Salary'\n",
       "20. 'NewLeague'\n",
       "\n",
       "\n"
      ],
      "text/plain": [
       " [1] \"AtBat\"     \"Hits\"      \"HmRun\"     \"Runs\"      \"RBI\"       \"Walks\"    \n",
       " [7] \"Years\"     \"CAtBat\"    \"CHits\"     \"CHmRun\"    \"CRuns\"     \"CRBI\"     \n",
       "[13] \"CWalks\"    \"League\"    \"Division\"  \"PutOuts\"   \"Assists\"   \"Errors\"   \n",
       "[19] \"Salary\"    \"NewLeague\""
      ]
     },
     "metadata": {},
     "output_type": "display_data"
    }
   ],
   "source": [
    "names(Hitters)"
   ]
  },
  {
   "cell_type": "code",
   "execution_count": null,
   "id": "94838e09-a00d-419f-8cfe-364ba718facf",
   "metadata": {},
   "outputs": [],
   "source": []
  },
  {
   "cell_type": "code",
   "execution_count": 59,
   "id": "6b215890-fa94-43bd-a2b6-98dd197c1e96",
   "metadata": {},
   "outputs": [
    {
     "name": "stdout",
     "output_type": "stream",
     "text": [
      "[1] \"Selected features for forward selection:\"\n",
      "          AtBat Hits HmRun Runs RBI Walks Years CAtBat CHits CHmRun CRuns CRBI\n",
      "1  ( 1 )  \" \"   \"*\"  \" \"   \" \"  \" \" \" \"   \" \"   \" \"    \" \"   \" \"    \" \"   \" \" \n",
      "2  ( 1 )  \"*\"   \"*\"  \" \"   \" \"  \" \" \" \"   \" \"   \" \"    \" \"   \" \"    \" \"   \" \" \n",
      "3  ( 1 )  \"*\"   \"*\"  \" \"   \" \"  \" \" \"*\"   \" \"   \" \"    \" \"   \" \"    \" \"   \" \" \n",
      "4  ( 1 )  \"*\"   \"*\"  \" \"   \" \"  \" \" \"*\"   \" \"   \" \"    \" \"   \" \"    \" \"   \" \" \n",
      "5  ( 1 )  \"*\"   \"*\"  \"*\"   \" \"  \" \" \"*\"   \" \"   \" \"    \" \"   \" \"    \" \"   \" \" \n",
      "6  ( 1 )  \"*\"   \"*\"  \"*\"   \" \"  \" \" \"*\"   \" \"   \" \"    \" \"   \" \"    \" \"   \" \" \n",
      "7  ( 1 )  \"*\"   \"*\"  \"*\"   \" \"  \" \" \"*\"   \" \"   \" \"    \" \"   \" \"    \" \"   \" \" \n",
      "8  ( 1 )  \"*\"   \"*\"  \"*\"   \" \"  \" \" \"*\"   \" \"   \" \"    \" \"   \" \"    \" \"   \"*\" \n",
      "9  ( 1 )  \"*\"   \"*\"  \"*\"   \" \"  \" \" \"*\"   \" \"   \" \"    \" \"   \" \"    \"*\"   \"*\" \n",
      "10  ( 1 ) \"*\"   \"*\"  \"*\"   \" \"  \" \" \"*\"   \" \"   \"*\"    \" \"   \" \"    \"*\"   \"*\" \n",
      "11  ( 1 ) \"*\"   \"*\"  \"*\"   \" \"  \" \" \"*\"   \" \"   \"*\"    \"*\"   \" \"    \"*\"   \"*\" \n",
      "12  ( 1 ) \"*\"   \"*\"  \"*\"   \" \"  \" \" \"*\"   \" \"   \"*\"    \"*\"   \"*\"    \"*\"   \"*\" \n",
      "13  ( 1 ) \"*\"   \"*\"  \"*\"   \" \"  \" \" \"*\"   \"*\"   \"*\"    \"*\"   \"*\"    \"*\"   \"*\" \n",
      "14  ( 1 ) \"*\"   \"*\"  \"*\"   \" \"  \" \" \"*\"   \"*\"   \"*\"    \"*\"   \"*\"    \"*\"   \"*\" \n",
      "          CWalks LeagueN DivisionW PutOuts Assists Errors Salary NewLeagueN\n",
      "1  ( 1 )  \" \"    \" \"     \" \"       \" \"     \" \"     \" \"    \" \"    \" \"       \n",
      "2  ( 1 )  \" \"    \" \"     \" \"       \" \"     \" \"     \" \"    \" \"    \" \"       \n",
      "3  ( 1 )  \" \"    \" \"     \" \"       \" \"     \" \"     \" \"    \" \"    \" \"       \n",
      "4  ( 1 )  \" \"    \" \"     \"*\"       \" \"     \" \"     \" \"    \" \"    \" \"       \n",
      "5  ( 1 )  \" \"    \" \"     \"*\"       \" \"     \" \"     \" \"    \" \"    \" \"       \n",
      "6  ( 1 )  \" \"    \" \"     \"*\"       \"*\"     \" \"     \" \"    \" \"    \" \"       \n",
      "7  ( 1 )  \"*\"    \" \"     \"*\"       \"*\"     \" \"     \" \"    \" \"    \" \"       \n",
      "8  ( 1 )  \"*\"    \" \"     \"*\"       \"*\"     \" \"     \" \"    \" \"    \" \"       \n",
      "9  ( 1 )  \"*\"    \" \"     \"*\"       \"*\"     \" \"     \" \"    \" \"    \" \"       \n",
      "10  ( 1 ) \"*\"    \" \"     \"*\"       \"*\"     \" \"     \" \"    \" \"    \" \"       \n",
      "11  ( 1 ) \"*\"    \" \"     \"*\"       \"*\"     \" \"     \" \"    \" \"    \" \"       \n",
      "12  ( 1 ) \"*\"    \" \"     \"*\"       \"*\"     \" \"     \" \"    \" \"    \" \"       \n",
      "13  ( 1 ) \"*\"    \" \"     \"*\"       \"*\"     \" \"     \" \"    \" \"    \" \"       \n",
      "14  ( 1 ) \"*\"    \" \"     \"*\"       \"*\"     \"*\"     \" \"    \" \"    \" \"       \n",
      "[1] \"Selected features for backward selection:\"\n",
      "          AtBat Hits HmRun Runs RBI Walks Years CAtBat CHits CHmRun CRuns CRBI\n",
      "1  ( 1 )  \" \"   \"*\"  \" \"   \" \"  \" \" \" \"   \" \"   \" \"    \" \"   \" \"    \" \"   \" \" \n",
      "2  ( 1 )  \"*\"   \"*\"  \" \"   \" \"  \" \" \" \"   \" \"   \" \"    \" \"   \" \"    \" \"   \" \" \n",
      "3  ( 1 )  \"*\"   \"*\"  \" \"   \" \"  \" \" \"*\"   \" \"   \" \"    \" \"   \" \"    \" \"   \" \" \n",
      "4  ( 1 )  \"*\"   \"*\"  \" \"   \" \"  \" \" \"*\"   \" \"   \" \"    \" \"   \"*\"    \" \"   \" \" \n",
      "5  ( 1 )  \"*\"   \"*\"  \" \"   \" \"  \" \" \"*\"   \" \"   \" \"    \" \"   \"*\"    \" \"   \"*\" \n",
      "6  ( 1 )  \"*\"   \"*\"  \" \"   \" \"  \" \" \"*\"   \" \"   \" \"    \"*\"   \"*\"    \" \"   \"*\" \n",
      "7  ( 1 )  \"*\"   \"*\"  \" \"   \" \"  \" \" \"*\"   \" \"   \" \"    \"*\"   \"*\"    \" \"   \"*\" \n",
      "8  ( 1 )  \"*\"   \"*\"  \" \"   \" \"  \" \" \"*\"   \" \"   \" \"    \"*\"   \"*\"    \" \"   \"*\" \n",
      "9  ( 1 )  \"*\"   \"*\"  \" \"   \" \"  \" \" \"*\"   \" \"   \"*\"    \"*\"   \"*\"    \" \"   \"*\" \n",
      "10  ( 1 ) \"*\"   \"*\"  \" \"   \" \"  \" \" \"*\"   \" \"   \"*\"    \"*\"   \"*\"    \" \"   \"*\" \n",
      "11  ( 1 ) \"*\"   \"*\"  \" \"   \" \"  \"*\" \"*\"   \" \"   \"*\"    \"*\"   \"*\"    \" \"   \"*\" \n",
      "12  ( 1 ) \"*\"   \"*\"  \" \"   \" \"  \"*\" \"*\"   \"*\"   \"*\"    \"*\"   \"*\"    \" \"   \"*\" \n",
      "13  ( 1 ) \"*\"   \"*\"  \" \"   \" \"  \"*\" \"*\"   \"*\"   \"*\"    \"*\"   \"*\"    \" \"   \"*\" \n",
      "14  ( 1 ) \"*\"   \"*\"  \" \"   \"*\"  \"*\" \"*\"   \"*\"   \"*\"    \"*\"   \"*\"    \" \"   \"*\" \n",
      "          CWalks LeagueN DivisionW PutOuts Assists Errors Salary NewLeagueN\n",
      "1  ( 1 )  \" \"    \" \"     \" \"       \" \"     \" \"     \" \"    \" \"    \" \"       \n",
      "2  ( 1 )  \" \"    \" \"     \" \"       \" \"     \" \"     \" \"    \" \"    \" \"       \n",
      "3  ( 1 )  \" \"    \" \"     \" \"       \" \"     \" \"     \" \"    \" \"    \" \"       \n",
      "4  ( 1 )  \" \"    \" \"     \" \"       \" \"     \" \"     \" \"    \" \"    \" \"       \n",
      "5  ( 1 )  \" \"    \" \"     \" \"       \" \"     \" \"     \" \"    \" \"    \" \"       \n",
      "6  ( 1 )  \" \"    \" \"     \" \"       \" \"     \" \"     \" \"    \" \"    \" \"       \n",
      "7  ( 1 )  \" \"    \" \"     \"*\"       \" \"     \" \"     \" \"    \" \"    \" \"       \n",
      "8  ( 1 )  \" \"    \" \"     \"*\"       \"*\"     \" \"     \" \"    \" \"    \" \"       \n",
      "9  ( 1 )  \" \"    \" \"     \"*\"       \"*\"     \" \"     \" \"    \" \"    \" \"       \n",
      "10  ( 1 ) \"*\"    \" \"     \"*\"       \"*\"     \" \"     \" \"    \" \"    \" \"       \n",
      "11  ( 1 ) \"*\"    \" \"     \"*\"       \"*\"     \" \"     \" \"    \" \"    \" \"       \n",
      "12  ( 1 ) \"*\"    \" \"     \"*\"       \"*\"     \" \"     \" \"    \" \"    \" \"       \n",
      "13  ( 1 ) \"*\"    \" \"     \"*\"       \"*\"     \"*\"     \" \"    \" \"    \" \"       \n",
      "14  ( 1 ) \"*\"    \" \"     \"*\"       \"*\"     \"*\"     \" \"    \" \"    \" \"       \n"
     ]
    }
   ],
   "source": [
    "# Load necessary libraries\n",
    "library(leaps)\n",
    "\n",
    "# Assume you have a dataset called 'data' with the target variable named 'target'\n",
    "data <- Hitters  # Replace with your actual dataset\n",
    "target_variable <- Hits\n",
    "\n",
    "# Set nvmax to a value between 9 and 18\n",
    "nvmax_value <- 14\n",
    "\n",
    "# Forward Selection\n",
    "forward_selection <- regsubsets(target_variable ~ ., data = data, method = \"forward\", nvmax = nvmax_value)\n",
    "forward_summary <- summary(forward_selection)\n",
    "\n",
    "# Display selected features for forward selection\n",
    "print(\"Selected features for forward selection:\")\n",
    "print(forward_summary$outmat)\n",
    "\n",
    "# Backward Selection\n",
    "backward_selection <- regsubsets(target_variable ~ ., data = data, method = \"backward\", nvmax = nvmax_value)\n",
    "backward_summary <- summary(backward_selection)\n",
    "\n",
    "# Display selected features for backward selection\n",
    "print(\"Selected features for backward selection:\")\n",
    "print(backward_summary$outmat)\n"
   ]
  },
  {
   "cell_type": "markdown",
   "id": "e5bc275f-d6c2-4947-8c0e-fc428f00b932",
   "metadata": {},
   "source": [
    "When I modified the nvmax (maximum number of variables) in forward and backward selection, the models could select 14 features. Here are some general observations:\n",
    "Increased Complexity: By allowing more features with a larger nvmax, the model might potentially capture more complicated interactions.\n",
    "Risk of Overfitting: Increasing nvmax increases the likelihood of overfitting, particularly if the dataset is small. Adding too many variables can result in a model that fits the training data well but performs badly on new data.\n",
    "Differences in feature selection: Forward and backward selection may select different sets of variables, even with the same nvmax, because they add or delete features in different order."
   ]
  },
  {
   "cell_type": "code",
   "execution_count": null,
   "id": "32465320-1928-4917-a814-8f55c0254f61",
   "metadata": {},
   "outputs": [],
   "source": []
  },
  {
   "cell_type": "code",
   "execution_count": 60,
   "id": "19e0e03d-9253-4cb0-b043-159bb23716c4",
   "metadata": {},
   "outputs": [
    {
     "name": "stdout",
     "output_type": "stream",
     "text": [
      "[1] \"Ridge Regression coefficients for custom lambda:\"\n",
      "  (Intercept)         AtBat         HmRun          Runs           RBI \n",
      "89.3072227583  0.0124626472  0.1053879837  0.0672407307  0.0557343353 \n",
      "        Walks         Years        CAtBat         CHits        CHmRun \n",
      " 0.0480012450 -0.0119000432  0.0001286016  0.0005465740  0.0028329602 \n",
      "        CRuns          CRBI        CWalks       LeagueN     DivisionW \n",
      " 0.0010571995  0.0009371123  0.0004341204 -0.5384702155 -0.2878130292 \n",
      "      PutOuts       Assists        Errors        Salary    NewLeagueN \n",
      " 0.0019082865  0.0041133901  0.0806764532  0.0016795995 -0.3101538207 \n"
     ]
    }
   ],
   "source": [
    "# Load necessary library\n",
    "library(glmnet)\n",
    "\n",
    "# Remove rows with any missing values in the dataset\n",
    "data_clean <- na.omit(data)\n",
    "\n",
    "# Define predictor matrix and response vector from the cleaned dataset\n",
    "x <- model.matrix(Hits ~ ., data = data_clean)[,-1]  # Predictor matrix\n",
    "y <- data_clean$Hits                                 # Response vector\n",
    "\n",
    "# Set lambda based on last three non-zero digits of your student ID \n",
    "###### in my id 0 digit coming so, I chose before zero digit. my actual last three digit is 098 replace with 898. for better output ######\n",
    "student_id_last_digits <- as.numeric(substr(898, nchar(898) - 2, nchar(898)))\n",
    "ridge_lambda <- student_id_last_digits\n",
    "\n",
    "# Fit Ridge Regression model\n",
    "ridge_model <- glmnet(x, y, alpha = 0)  # alpha = 0 for Ridge\n",
    "\n",
    "# Predict using custom lambda\n",
    "ridge_coefficients <- predict(ridge_model, s = ridge_lambda, type = \"coefficients\")[1:20, ]\n",
    "print(\"Ridge Regression coefficients for custom lambda:\")\n",
    "print(ridge_coefficients)\n"
   ]
  },
  {
   "cell_type": "code",
   "execution_count": null,
   "id": "8127794e-6372-4dcc-b46a-f89422e5d35a",
   "metadata": {},
   "outputs": [],
   "source": []
  },
  {
   "cell_type": "markdown",
   "id": "af53d2eb-716d-40d7-b1bf-95728ea2a67f",
   "metadata": {},
   "source": [
    "Effect on Shirnkage in Size:\n",
    "The coefficients shrink closer to zero when the lambda value is higher, indicating more regularization.\n",
    "The quality of the Shrinkage Method: A larger lambda may help Ridge Regression reduce overfitting more effectively, especially in cases of multicollinearity or a high number of predictors. However, excessive shrinkage may oversimplify the model and reduce its ability to recognize important patterns in the data.\n",
    "A Higher Lambda's Impact on L2 Regularization In theory:Reduced Variance, Increased Bias: While greater lambda values increase bias, they also reduce variation in the model, which often yields more reliable predictions, especially when applied to new data.\n",
    "Coefficient Shrinkage: Ridge, in contrast to Lasso, will not set any coefficients to zero, although larger lambda values will drive them closer to zero. It works well in circumstances when the majority of predictors are assumed to influence the outcome."
   ]
  },
  {
   "cell_type": "code",
   "execution_count": null,
   "id": "249e5cb4-e950-474f-b4ea-690be0290617",
   "metadata": {},
   "outputs": [],
   "source": []
  },
  {
   "cell_type": "code",
   "execution_count": 57,
   "id": "119e6d0d-ef8d-42b8-b49d-b702a4a684a9",
   "metadata": {},
   "outputs": [
    {
     "name": "stdout",
     "output_type": "stream",
     "text": [
      "NULL\n"
     ]
    },
    {
     "data": {
      "image/png": "[encoded data removed]",
      "text/plain": [
       "Plot with title “MSEP of Partial Least Squares Model”"
      ]
     },
     "metadata": {
      "image/png": {
       "height": 420,
       "width": 420
      }
     },
     "output_type": "display_data"
    }
   ],
   "source": [
    "# Load necessary library for PLS\n",
    "library(pls)\n",
    "\n",
    "# Set custom seed\n",
    "set.seed(898)  # Replace with the last 3 non-zero digits of your student ID\n",
    "\n",
    "# Fit PLS model\n",
    "pls_model <- plsr(target_variable ~ ., data = data, validation = \"CV\")\n",
    "\n",
    "# Plot MSEP (Mean Squared Error of Prediction) graph\n",
    "msep_plot <- plot(MSEP(pls_model), main = \"MSEP of Partial Least Squares Model\")\n",
    "print(msep_plot)\n"
   ]
  },
  {
   "cell_type": "markdown",
   "id": "97edbc30-c07e-4f30-a3f4-713e3ba3a60f",
   "metadata": {},
   "source": [
    "Changes Noticed:\n",
    "\n",
    "Mean Squared Error of Prediction (MSEP) Variability: Changing the seed has an impact on the random splits in cross-validation, which may result in a tiny change in the MSEP because of various training/testing partitions.\n",
    "Stability of Results: MSEP stabilizes with more reliable seeds, enhancing the repeatability of outcomes. Nonetheless, the general MSEP pattern across components need to be consistent.\n",
    "You may find that when you compare and tweak the seed, the number of components that reduce MSEP stays the same, even while some MSEP values vary slightly.\n"
   ]
  }
 ],
 "metadata": {
  "kernelspec": {
   "display_name": "Python 3 (ipykernel)",
   "language": "python",
   "name": "python3"
  },
  "language_info": {
   "codemirror_mode": {
    "name": "ipython",
    "version": 3
   },
   "file_extension": ".py",
   "mimetype": "text/x-python",
   "name": "python",
   "nbconvert_exporter": "python",
   "pygments_lexer": "ipython3",
   "version": "3.12.5"
  }
 },
 "nbformat": 4,
 "nbformat_minor": 5
}
